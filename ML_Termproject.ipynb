{
 "cells": [
  {
   "cell_type": "code",
   "execution_count": null,
   "id": "e6ee0695",
   "metadata": {},
   "outputs": [],
   "source": [
    "import socket\n",
    "import threading\n",
    "\n",
    "server_ip = '127.0.0.1'  # 유니티 클라이언트와 동일한 IP 주소\n",
    "server_port = 12348  # 클라이언트와 일치시켜야 함\n",
    "\n",
    "def handle_client(client_socket):\n",
    "    while True:\n",
    "        data = client_socket.recv(1024)\n",
    "        if not data:\n",
    "            break\n",
    "\n",
    "        received_message = data.decode('utf-8')\n",
    "        float1, float2, float3, float4, float5, float6, float7, float8, float9, = map(float, received_message.split(','))\n",
    "        print(f\"HMD : {float1}, {float2}, {float3}\")\n",
    "        print(f\"L_C : {float4}, {float5}, {float6}\")\n",
    "        print(f\"R_C : {float7}, {float8}, {float9}\")\n",
    "        print()\n",
    "        \n",
    "with socket.socket(socket.AF_INET, socket.SOCK_STREAM) as server_socket:\n",
    "    server_socket.bind((server_ip, server_port))\n",
    "    server_socket.listen(1)\n",
    "\n",
    "    print(f\"서버가 {server_ip}:{server_port}에서 대기 중입니다.\")\n",
    "\n",
    "    while True:\n",
    "        client_socket, client_address = server_socket.accept()\n",
    "        print(f\"클라이언트가 연결되었습니다: {client_address}\")\n",
    "\n",
    "        client_handler = threading.Thread(target=handle_client, args=(client_socket,))\n",
    "        client_handler.start()\n"
   ]
  },
  {
   "cell_type": "code",
   "execution_count": null,
   "id": "5bf0db8c",
   "metadata": {},
   "outputs": [],
   "source": [
    "exit()"
   ]
  }
 ],
 "metadata": {
  "kernelspec": {
   "display_name": "Python 3 (ipykernel)",
   "language": "python",
   "name": "python3"
  },
  "language_info": {
   "codemirror_mode": {
    "name": "ipython",
    "version": 3
   },
   "file_extension": ".py",
   "mimetype": "text/x-python",
   "name": "python",
   "nbconvert_exporter": "python",
   "pygments_lexer": "ipython3",
   "version": "3.9.18"
  }
 },
 "nbformat": 4,
 "nbformat_minor": 5
}
